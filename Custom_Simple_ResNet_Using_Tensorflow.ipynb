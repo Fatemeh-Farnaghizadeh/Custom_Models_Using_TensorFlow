{
 "cells": [
  {
   "cell_type": "markdown",
   "id": "7f102cbb",
   "metadata": {},
   "source": [
    "# Imports"
   ]
  },
  {
   "cell_type": "code",
   "execution_count": null,
   "id": "6692ee0e",
   "metadata": {},
   "outputs": [],
   "source": [
    "import tensorflow as tf\n",
    "from tensorflow.keras.models import Model\n",
    "from tensorflow.keras.layers import Dense, Conv2D, BatchNormalization, Add, ReLU, MaxPooling2D, GlobalAveragePooling2D\n",
    "from tensorflow.keras.activations import relu\n",
    "from tensorflow.keras.datasets import mnist\n",
    "import tensorflow_datasets as tfds"
   ]
  },
  {
   "cell_type": "markdown",
   "id": "f45c3404",
   "metadata": {},
   "source": [
    "# Model"
   ]
  },
  {
   "cell_type": "code",
   "execution_count": 11,
   "id": "6396f3e4",
   "metadata": {},
   "outputs": [],
   "source": [
    "class IdentityBlock(Model):\n",
    "    \n",
    "    def __init__(self, filters, kernel_size):\n",
    "        super().__init__()\n",
    "        self.conv1=Conv2D(filters, kernel_size, padding='same')\n",
    "        self.bn1=BatchNormalization()\n",
    "        self.conv2=Conv2D(filters, kernel_size, padding='same')\n",
    "        self.bn2=BatchNormalization()\n",
    "        self.act=tf.keras.layers.Activation('relu')\n",
    "        self.add=Add()\n",
    "        \n",
    "    def call(self, inputs):\n",
    "        x=self.conv1(inputs)\n",
    "        x=self.bn1(x)\n",
    "        x=self.act(x)\n",
    "        x=self.conv2(x)\n",
    "        x=self.bn2(x)\n",
    "        x=self.act(x)\n",
    "        x=self.add([x, inputs])\n",
    "        x=self.act(x)\n",
    "        return x       "
   ]
  },
  {
   "cell_type": "code",
   "execution_count": 12,
   "id": "61b2ca6b",
   "metadata": {},
   "outputs": [],
   "source": [
    "class ResNet(Model):\n",
    "    \n",
    "    def __init__(self, num_classes):\n",
    "        super().__init__()\n",
    "        self.conv=Conv2D(64, 3, padding='same')\n",
    "        self.bn=BatchNormalization()\n",
    "        self.max_pool=MaxPooling2D((3, 3))\n",
    "        self.identity1=IdentityBlock(64, 3)\n",
    "        self.identity2=IdentityBlock(64, 3)\n",
    "        self.global_pool=GlobalAveragePooling2D()\n",
    "        self.classifier=Dense(num_classes, activation='softmax')\n",
    "        \n",
    "    def call(self, inputs):\n",
    "        \n",
    "        x=self.conv(inputs)\n",
    "        x=self.bn(x)\n",
    "        x=self.max_pool(x)\n",
    "        x=self.identity1(x)\n",
    "        x=self.identity2(x)\n",
    "        x=self.global_pool(x)\n",
    "        x=self.classifier(x)\n",
    "        \n",
    "        return x                  "
   ]
  },
  {
   "cell_type": "markdown",
   "id": "0fbc1345",
   "metadata": {},
   "source": [
    "# Train (first_soloution)"
   ]
  },
  {
   "cell_type": "code",
   "execution_count": 13,
   "id": "7425ab72",
   "metadata": {},
   "outputs": [
    {
     "name": "stdout",
     "output_type": "stream",
     "text": [
      "1875/1875 [==============================] - 86s 45ms/step - loss: 0.1607 - accuracy: 0.9614\n"
     ]
    },
    {
     "data": {
      "text/plain": [
       "<keras.callbacks.History at 0x18ab014d5b0>"
      ]
     },
     "execution_count": 13,
     "metadata": {},
     "output_type": "execute_result"
    }
   ],
   "source": [
    "def preprocess(features):\n",
    "    return tf.cast(features['image'], tf.float32) / 255. , features['label']\n",
    "\n",
    "resnet = ResNet(10)\n",
    "resnet.compile(optimizer='adam', loss='sparse_categorical_crossentropy', metrics=['accuracy'])\n",
    "\n",
    "dataset = tfds.load('mnist', split=tfds.Split.TRAIN, data_dir='./data', batch_size=32)\n",
    "dataset = dataset.map(preprocess)\n",
    "\n",
    "resnet.fit(dataset, epochs=1)"
   ]
  },
  {
   "cell_type": "markdown",
   "id": "43888a04",
   "metadata": {},
   "source": [
    "# Train (second_soloution)"
   ]
  },
  {
   "cell_type": "code",
   "execution_count": 14,
   "id": "44c9c352",
   "metadata": {},
   "outputs": [
    {
     "name": "stdout",
     "output_type": "stream",
     "text": [
      "<MapDataset element_spec=(TensorSpec(shape=(None, 28, 28, 1), dtype=tf.float32, name=None), TensorSpec(shape=(None,), dtype=tf.int64, name=None))>\n",
      "1875/1875 [==============================] - 89s 47ms/step - loss: 0.1544 - accuracy: 0.9632\n"
     ]
    },
    {
     "data": {
      "text/plain": [
       "<keras.callbacks.History at 0x18ab159fd00>"
      ]
     },
     "execution_count": 14,
     "metadata": {},
     "output_type": "execute_result"
    }
   ],
   "source": [
    "(train_examples, train_labels),(test_examples, test_labels)=mnist.load_data()\n",
    "\n",
    "train_dataset = tf.data.Dataset.from_tensor_slices((train_examples, train_labels))\n",
    "test_dataset = tf.data.Dataset.from_tensor_slices((test_examples, test_labels))\n",
    "\n",
    "BATCH_SIZE = 32\n",
    "\n",
    "train_dataset = train_dataset.batch(BATCH_SIZE)\n",
    "test_dataset = test_dataset.batch(BATCH_SIZE)\n",
    "\n",
    "resnet = ResNet(10)\n",
    "resnet.compile(optimizer='adam', loss='sparse_categorical_crossentropy', metrics=['accuracy'])\n",
    "print(dataset)\n",
    "resnet.fit(dataset, epochs=1)"
   ]
  },
  {
   "cell_type": "code",
   "execution_count": null,
   "id": "1efb4a4d",
   "metadata": {},
   "outputs": [],
   "source": []
  }
 ],
 "metadata": {
  "kernelspec": {
   "display_name": "Python 3 (ipykernel)",
   "language": "python",
   "name": "python3"
  },
  "language_info": {
   "codemirror_mode": {
    "name": "ipython",
    "version": 3
   },
   "file_extension": ".py",
   "mimetype": "text/x-python",
   "name": "python",
   "nbconvert_exporter": "python",
   "pygments_lexer": "ipython3",
   "version": "3.9.12"
  }
 },
 "nbformat": 4,
 "nbformat_minor": 5
}
