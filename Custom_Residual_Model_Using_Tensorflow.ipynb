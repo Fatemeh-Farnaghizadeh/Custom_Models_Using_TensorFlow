{
 "cells": [
  {
   "cell_type": "markdown",
   "id": "00e809e6",
   "metadata": {},
   "source": [
    "# Imports"
   ]
  },
  {
   "cell_type": "code",
   "execution_count": 1,
   "id": "89d8c733",
   "metadata": {},
   "outputs": [],
   "source": [
    "import tensorflow as tf\n",
    "from tensorflow.keras.layers import Dense, Conv2D, Layer\n",
    "from tensorflow.keras.models import Model\n",
    "from tensorflow.keras.utils import plot_model"
   ]
  },
  {
   "cell_type": "markdown",
   "id": "ebe00767",
   "metadata": {},
   "source": [
    "# Model"
   ]
  },
  {
   "cell_type": "code",
   "execution_count": 2,
   "id": "491f31f0",
   "metadata": {},
   "outputs": [],
   "source": [
    "class CNNResidual(Layer):\n",
    "    \n",
    "    def __init__(self, layers, filters, kernel_size,  **kwargs):\n",
    "        super().__init__(**kwargs)\n",
    "        self.hidden=[Conv2D(filters, kernel_size) for _ in range(layers)]\n",
    "        \n",
    "    def call(self, inputs):\n",
    "        x=inputs\n",
    "        for layer in self.hidden:\n",
    "            x=layer(x)\n",
    "        return x+inputs\n"
   ]
  },
  {
   "cell_type": "code",
   "execution_count": 3,
   "id": "47bee549",
   "metadata": {},
   "outputs": [],
   "source": [
    "class DNNResidual(Layer):\n",
    "    \n",
    "    def __init__(self, layers, units, activation='relu', **kwargs):\n",
    "        super().__init__(**kwargs)\n",
    "        self.hidden=[Dense(units, activation=activation) for _ in range(layers)]\n",
    "        \n",
    "    def call(self, inputs):\n",
    "        x=inputs\n",
    "        for layer in self.hidden:\n",
    "            x=layer(x)\n",
    "        return x+inputs\n",
    "        \n",
    "        "
   ]
  },
  {
   "cell_type": "code",
   "execution_count": 4,
   "id": "40106841",
   "metadata": {
    "collapsed": true
   },
   "outputs": [],
   "source": [
    "class MyResidual(Model):\n",
    "    \n",
    "    def __init__(self, **kwargs):\n",
    "        super().__init__(**kwargs)\n",
    "        self.dense=Dense(30, activation='relu')\n",
    "        self.dnn_residual=DNNResidual(2, 64)\n",
    "        self.cnn_residual=CNNResidual(2, 32, (3,3))\n",
    "        self.out=Dense(1)\n",
    "    \n",
    "    \n",
    "    def call(self, inputs):\n",
    "        x=self.dense(inputs)\n",
    "        x=self.dnn_residual(x)\n",
    "        for _ in range(1,3):\n",
    "            x=self.cnn_residual(x)\n",
    "        \n",
    "        return self.out"
   ]
  },
  {
   "cell_type": "code",
   "execution_count": 5,
   "id": "f424f6fe",
   "metadata": {},
   "outputs": [],
   "source": [
    "model=MyResidual()"
   ]
  }
 ],
 "metadata": {
  "kernelspec": {
   "display_name": "Python 3 (ipykernel)",
   "language": "python",
   "name": "python3"
  },
  "language_info": {
   "codemirror_mode": {
    "name": "ipython",
    "version": 3
   },
   "file_extension": ".py",
   "mimetype": "text/x-python",
   "name": "python",
   "nbconvert_exporter": "python",
   "pygments_lexer": "ipython3",
   "version": "3.9.12"
  }
 },
 "nbformat": 4,
 "nbformat_minor": 5
}
